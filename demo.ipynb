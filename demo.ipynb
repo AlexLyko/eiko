{
 "cells": [
  {
   "cell_type": "markdown",
   "id": "0aa08003",
   "metadata": {},
   "source": [
    "# Go through εiko\n",
    "\n",
    "εiko is the easiest way to deal with environmental data and assess the state of the Environement.\n",
    "\n",
    "Hopefully : of YOUR local environment (the place you live in every day, not the place you code).\n"
   ]
  },
  {
   "cell_type": "markdown",
   "id": "7f0f4111",
   "metadata": {},
   "source": [
    "### Go with Shape files"
   ]
  },
  {
   "cell_type": "markdown",
   "id": "a62cf55c",
   "metadata": {},
   "source": [
    "#### GisSeries are common Shape files...\n",
    "... containing at least a geometry, a column used as a key and a column used as a default value.\n",
    "\n",
    "Eventually, you can provide *key_expressions* and *value_expression* which allow you, to specify statement to apply within the columns of the Shape file to compute a new column.\n"
   ]
  },
  {
   "cell_type": "code",
   "execution_count": 17,
   "id": "f6b7f13c",
   "metadata": {},
   "outputs": [
    {
     "name": "stdout",
     "output_type": "stream",
     "text": [
      "key = d.dep_code.astype('string')+'_'+d.com_code.astype('string')\n",
      "df_val = d.com_name_lo.astype('string')+' '+d.com_name_lo.astype('string')\n",
      "=== DATASET PROPERTIES =========================================\n",
      "Data length : 332\n",
      "Data source : ./tests/datasets/series/georef-france-commune-millesime.shp\n",
      "Data contents is type : <class 'geopandas.geodataframe.GeoDataFrame'>\n",
      "Data key column is : key\n",
      "Data default value column is : df_val\n",
      "<class 'geopandas.geodataframe.GeoDataFrame'>\n",
      "RangeIndex: 332 entries, 0 to 331\n",
      "Data columns (total 41 columns):\n",
      " #   Column       Non-Null Count  Dtype   \n",
      "---  ------       --------------  -----   \n",
      " 0   year         332 non-null    object  \n",
      " 1   reg_code     332 non-null    object  \n",
      " 2   reg_name     332 non-null    object  \n",
      " 3   dep_code     332 non-null    object  \n",
      " 4   dep_name     332 non-null    object  \n",
      " 5   arrdep_code  332 non-null    object  \n",
      " 6   arrdep_name  332 non-null    object  \n",
      " 7   ze2020_code  332 non-null    object  \n",
      " 8   ze2020_name  332 non-null    object  \n",
      " 9   bv2022_code  332 non-null    object  \n",
      " 10  bv2022_name  332 non-null    object  \n",
      " 11  epci_code    332 non-null    object  \n",
      " 12  epci_name    332 non-null    object  \n",
      " 13  ept_code     0 non-null      object  \n",
      " 14  ept_name     0 non-null      object  \n",
      " 15  com_code     332 non-null    object  \n",
      " 16  com_current  332 non-null    object  \n",
      " 17  com_name     332 non-null    object  \n",
      " 18  com_name_up  332 non-null    object  \n",
      " 19  com_name_lo  332 non-null    object  \n",
      " 20  com_area_co  332 non-null    object  \n",
      " 21  com_type     332 non-null    object  \n",
      " 22  ze2010_name  0 non-null      object  \n",
      " 23  ze2010_code  0 non-null      object  \n",
      " 24  com_cataeu2  0 non-null      object  \n",
      " 25  com_cataeu2  0 non-null      object  \n",
      " 26  com_uu2010_  0 non-null      object  \n",
      " 27  com_uu2010_  0 non-null      object  \n",
      " 28  com_au2010_  0 non-null      object  \n",
      " 29  com_cateaav  332 non-null    object  \n",
      " 30  com_cateaav  332 non-null    object  \n",
      " 31  com_uu2020_  332 non-null    object  \n",
      " 32  com_uu2020_  332 non-null    object  \n",
      " 33  com_aav2020  332 non-null    object  \n",
      " 34  com_cv_code  332 non-null    object  \n",
      " 35  com_in_ctu   332 non-null    object  \n",
      " 36  com_siren_c  0 non-null      object  \n",
      " 37  com_is_moun  332 non-null    object  \n",
      " 38  geometry     332 non-null    geometry\n",
      " 39  key          332 non-null    string  \n",
      " 40  df_val       332 non-null    string  \n",
      "dtypes: geometry(1), object(38), string(2)\n",
      "memory usage: 106.5+ KB\n",
      "=== NEW ROW ====================================================\n",
      "---- Index : 0 | key : 35_35051\n",
      "---- df_val : cesson-sévigné cesson-sévigné\n",
      "=== NEW ROW ====================================================\n",
      "---- Index : 1 | key : 35_35059\n",
      "---- df_val : la chapelle-des-fougeretz la chapelle-des-fougeretz\n",
      "=== NEW ROW ====================================================\n",
      "---- Index : 2 | key : 35_35071\n",
      "---- df_val : le châtellier le châtellier\n",
      "=== NEW ROW ====================================================\n",
      "---- Index : 3 | key : 35_35107\n",
      "---- df_val : ercé-près-liffré ercé-près-liffré\n",
      "=== NEW ROW ====================================================\n",
      "---- Index : 4 | key : 35_35127\n",
      "---- df_val : guignen guignen\n",
      "=== NEW ROW ====================================================\n",
      "---- Index : 5 | key : 35_35130\n",
      "---- df_val : hédé-bazouges hédé-bazouges\n",
      "=== NEW ROW ====================================================\n",
      "---- Index : 6 | key : 35_35131\n",
      "---- df_val : l'hermitage l'hermitage\n",
      "=== NEW ROW ====================================================\n",
      "---- Index : 7 | key : 35_35148\n",
      "---- df_val : lanrigan lanrigan\n",
      "=== NEW ROW ====================================================\n",
      "---- Index : 8 | key : 35_35153\n",
      "---- df_val : lillemer lillemer\n",
      "=== NEW ROW ====================================================\n",
      "---- Index : 9 | key : 35_35161\n",
      "---- df_val : louvigné-de-bais louvigné-de-bais\n",
      "=== [Info] Interrupting display :\n",
      "(too many rows regarding maxrows parameters)\n",
      ".\n",
      ".\n",
      ".\n",
      "> shown 10 on 332\n",
      "================================================================\n"
     ]
    }
   ],
   "source": [
    "from  gis.gisserie import GisSerie\n",
    "\n",
    "def gis_serie(filepath, key, value_name, key_expression , value_expression):\n",
    "    gis_serie = GisSerie(filepath, key, value_name, key_expression , value_expression)\n",
    "    if value_name is not None : gis_serie.show_data(10, value_name)\n",
    "    else: gis_serie.show_data(10)\n",
    "    \n",
    "gis_serie(\"./tests/datasets/series/georef-france-commune-millesime.shp\",\"key\", \"df_val\", \"dep_code+'_'+com_code\", \"com_name_lo+' '+com_name_lo\")"
   ]
  },
  {
   "cell_type": "markdown",
   "id": "d276b7d4",
   "metadata": {},
   "source": [
    "#### References are some *hardened* Shape files...\n",
    "\n",
    "... that you ofen use. They have a specific meaning : municipal boundaries, other administrative borders, nature reserve perimeters for instance.\n",
    "\n",
    "Note that in addition to GisSeries, those files come with a baseline date and you may be able to duplicate operations through the date (literally, through the *versions*) with a minimalistic effort.\n",
    "\n",
    "By default, when comparing a GisSerie to a Reference, the geometry (the \"area\") of the GisSerie is cut BY the Reference. Reference objects are the common units for statistical computations."
   ]
  }
 ],
 "metadata": {
  "kernelspec": {
   "display_name": ".venv",
   "language": "python",
   "name": "python3"
  },
  "language_info": {
   "codemirror_mode": {
    "name": "ipython",
    "version": 3
   },
   "file_extension": ".py",
   "mimetype": "text/x-python",
   "name": "python",
   "nbconvert_exporter": "python",
   "pygments_lexer": "ipython3",
   "version": "3.12.6"
  }
 },
 "nbformat": 4,
 "nbformat_minor": 5
}
